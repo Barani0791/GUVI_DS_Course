{
 "cells": [
  {
   "cell_type": "markdown",
   "id": "ac5608f9",
   "metadata": {},
   "source": [
    "# List"
   ]
  },
  {
   "cell_type": "code",
   "execution_count": 1,
   "id": "9f1b6a3a",
   "metadata": {},
   "outputs": [
    {
     "name": "stdout",
     "output_type": "stream",
     "text": [
      "[6, 89, 34, 65, 88, 12, 'Work', 'edu', 'home']\n",
      "1\n"
     ]
    },
    {
     "data": {
      "text/plain": [
       "['__add__',\n",
       " '__class__',\n",
       " '__class_getitem__',\n",
       " '__contains__',\n",
       " '__delattr__',\n",
       " '__delitem__',\n",
       " '__dir__',\n",
       " '__doc__',\n",
       " '__eq__',\n",
       " '__format__',\n",
       " '__ge__',\n",
       " '__getattribute__',\n",
       " '__getitem__',\n",
       " '__getstate__',\n",
       " '__gt__',\n",
       " '__hash__',\n",
       " '__iadd__',\n",
       " '__imul__',\n",
       " '__init__',\n",
       " '__init_subclass__',\n",
       " '__iter__',\n",
       " '__le__',\n",
       " '__len__',\n",
       " '__lt__',\n",
       " '__mul__',\n",
       " '__ne__',\n",
       " '__new__',\n",
       " '__reduce__',\n",
       " '__reduce_ex__',\n",
       " '__repr__',\n",
       " '__reversed__',\n",
       " '__rmul__',\n",
       " '__setattr__',\n",
       " '__setitem__',\n",
       " '__sizeof__',\n",
       " '__str__',\n",
       " '__subclasshook__',\n",
       " 'append',\n",
       " 'clear',\n",
       " 'copy',\n",
       " 'count',\n",
       " 'extend',\n",
       " 'index',\n",
       " 'insert',\n",
       " 'pop',\n",
       " 'remove',\n",
       " 'reverse',\n",
       " 'sort']"
      ]
     },
     "execution_count": 1,
     "metadata": {},
     "output_type": "execute_result"
    }
   ],
   "source": [
    "L=[6,89,34,65,88,12,\"Work\",\"edu\",\"home\"]\n",
    "L.append(\"V\")\n",
    "n=L.count(\"home\")\n",
    "L.pop()\n",
    "print(L)\n",
    "print(n)\n",
    "dir(list)\n",
    "\n",
    "\n"
   ]
  },
  {
   "cell_type": "markdown",
   "id": "e5174700",
   "metadata": {},
   "source": [
    "# Equi Triangle"
   ]
  },
  {
   "cell_type": "code",
   "execution_count": 2,
   "id": "a6b9296f",
   "metadata": {},
   "outputs": [
    {
     "ename": "KeyboardInterrupt",
     "evalue": "Interrupted by user",
     "output_type": "error",
     "traceback": [
      "\u001b[31m---------------------------------------------------------------------------\u001b[39m",
      "\u001b[31mKeyboardInterrupt\u001b[39m                         Traceback (most recent call last)",
      "\u001b[36mCell\u001b[39m\u001b[36m \u001b[39m\u001b[32mIn[2]\u001b[39m\u001b[32m, line 2\u001b[39m\n\u001b[32m      1\u001b[39m \u001b[38;5;28;01mimport\u001b[39;00m\u001b[38;5;250m \u001b[39m\u001b[34;01mmath\u001b[39;00m\n\u001b[32m----> \u001b[39m\u001b[32m2\u001b[39m a=\u001b[38;5;28mfloat\u001b[39m(\u001b[38;5;28;43minput\u001b[39;49m\u001b[43m(\u001b[49m\u001b[33;43m\"\u001b[39;49m\u001b[33;43mEnter side of a triangle: \u001b[39;49m\u001b[33;43m\"\u001b[39;49m\u001b[43m)\u001b[49m)\n\u001b[32m      3\u001b[39m b=\u001b[32m3\u001b[39m*(a**\u001b[32m2\u001b[39m)\n\u001b[32m      4\u001b[39m rt=math.sqrt(b)\n",
      "\u001b[36mFile \u001b[39m\u001b[32m~\\AppData\\Roaming\\Python\\Python312\\site-packages\\ipykernel\\kernelbase.py:1282\u001b[39m, in \u001b[36mKernel.raw_input\u001b[39m\u001b[34m(self, prompt)\u001b[39m\n\u001b[32m   1280\u001b[39m     msg = \u001b[33m\"\u001b[39m\u001b[33mraw_input was called, but this frontend does not support input requests.\u001b[39m\u001b[33m\"\u001b[39m\n\u001b[32m   1281\u001b[39m     \u001b[38;5;28;01mraise\u001b[39;00m StdinNotImplementedError(msg)\n\u001b[32m-> \u001b[39m\u001b[32m1282\u001b[39m \u001b[38;5;28;01mreturn\u001b[39;00m \u001b[38;5;28;43mself\u001b[39;49m\u001b[43m.\u001b[49m\u001b[43m_input_request\u001b[49m\u001b[43m(\u001b[49m\n\u001b[32m   1283\u001b[39m \u001b[43m    \u001b[49m\u001b[38;5;28;43mstr\u001b[39;49m\u001b[43m(\u001b[49m\u001b[43mprompt\u001b[49m\u001b[43m)\u001b[49m\u001b[43m,\u001b[49m\n\u001b[32m   1284\u001b[39m \u001b[43m    \u001b[49m\u001b[38;5;28;43mself\u001b[39;49m\u001b[43m.\u001b[49m\u001b[43m_parent_ident\u001b[49m\u001b[43m[\u001b[49m\u001b[33;43m\"\u001b[39;49m\u001b[33;43mshell\u001b[39;49m\u001b[33;43m\"\u001b[39;49m\u001b[43m]\u001b[49m\u001b[43m,\u001b[49m\n\u001b[32m   1285\u001b[39m \u001b[43m    \u001b[49m\u001b[38;5;28;43mself\u001b[39;49m\u001b[43m.\u001b[49m\u001b[43mget_parent\u001b[49m\u001b[43m(\u001b[49m\u001b[33;43m\"\u001b[39;49m\u001b[33;43mshell\u001b[39;49m\u001b[33;43m\"\u001b[39;49m\u001b[43m)\u001b[49m\u001b[43m,\u001b[49m\n\u001b[32m   1286\u001b[39m \u001b[43m    \u001b[49m\u001b[43mpassword\u001b[49m\u001b[43m=\u001b[49m\u001b[38;5;28;43;01mFalse\u001b[39;49;00m\u001b[43m,\u001b[49m\n\u001b[32m   1287\u001b[39m \u001b[43m\u001b[49m\u001b[43m)\u001b[49m\n",
      "\u001b[36mFile \u001b[39m\u001b[32m~\\AppData\\Roaming\\Python\\Python312\\site-packages\\ipykernel\\kernelbase.py:1325\u001b[39m, in \u001b[36mKernel._input_request\u001b[39m\u001b[34m(self, prompt, ident, parent, password)\u001b[39m\n\u001b[32m   1322\u001b[39m \u001b[38;5;28;01mexcept\u001b[39;00m \u001b[38;5;167;01mKeyboardInterrupt\u001b[39;00m:\n\u001b[32m   1323\u001b[39m     \u001b[38;5;66;03m# re-raise KeyboardInterrupt, to truncate traceback\u001b[39;00m\n\u001b[32m   1324\u001b[39m     msg = \u001b[33m\"\u001b[39m\u001b[33mInterrupted by user\u001b[39m\u001b[33m\"\u001b[39m\n\u001b[32m-> \u001b[39m\u001b[32m1325\u001b[39m     \u001b[38;5;28;01mraise\u001b[39;00m \u001b[38;5;167;01mKeyboardInterrupt\u001b[39;00m(msg) \u001b[38;5;28;01mfrom\u001b[39;00m\u001b[38;5;250m \u001b[39m\u001b[38;5;28;01mNone\u001b[39;00m\n\u001b[32m   1326\u001b[39m \u001b[38;5;28;01mexcept\u001b[39;00m \u001b[38;5;167;01mException\u001b[39;00m:\n\u001b[32m   1327\u001b[39m     \u001b[38;5;28mself\u001b[39m.log.warning(\u001b[33m\"\u001b[39m\u001b[33mInvalid Message:\u001b[39m\u001b[33m\"\u001b[39m, exc_info=\u001b[38;5;28;01mTrue\u001b[39;00m)\n",
      "\u001b[31mKeyboardInterrupt\u001b[39m: Interrupted by user"
     ]
    }
   ],
   "source": [
    "import math\n",
    "a=float(input(\"Enter side of a triangle: \"))\n",
    "b=3*(a**2)\n",
    "rt=math.sqrt(b)\n",
    "ar=round((1/4*rt),2)\n",
    "print(ar)"
   ]
  },
  {
   "cell_type": "markdown",
   "id": "5b673a45",
   "metadata": {},
   "source": [
    "# Find Highest Number"
   ]
  },
  {
   "cell_type": "code",
   "execution_count": null,
   "id": "19584ec4",
   "metadata": {},
   "outputs": [
    {
     "name": "stdout",
     "output_type": "stream",
     "text": [
      "772\n"
     ]
    }
   ],
   "source": [
    "a=int(input(\"Enter First Number: \"))\n",
    "b=int(input(\"Enter Second Number: \"))\n",
    "c=int(input(\"Enter Third Number: \"))\n",
    "L=[a,b,c]\n",
    "print(max(L))\n"
   ]
  },
  {
   "cell_type": "markdown",
   "id": "096005b8",
   "metadata": {},
   "source": [
    "# Nineth Table"
   ]
  },
  {
   "cell_type": "code",
   "execution_count": null,
   "id": "818a358c",
   "metadata": {},
   "outputs": [
    {
     "name": "stdout",
     "output_type": "stream",
     "text": [
      "9 18 27 36 45 54 63 72 81 90 99 108 117 126 135 144 153 162 171 180 189 198 207 216 "
     ]
    }
   ],
   "source": [
    "n=int(input())\n",
    "if n==0:\n",
    "    print(\"Null\")\n",
    "else:\n",
    "  for i in range(0,n):\n",
    "     a=9*(i+1)\n",
    "     print(a, end=\" \")\n"
   ]
  },
  {
   "cell_type": "markdown",
   "id": "d2753afc",
   "metadata": {},
   "source": [
    "# Calender Days"
   ]
  },
  {
   "cell_type": "code",
   "execution_count": null,
   "id": "9bfd6196",
   "metadata": {},
   "outputs": [
    {
     "name": "stdout",
     "output_type": "stream",
     "text": [
      "28 days\n"
     ]
    }
   ],
   "source": [
    "n = int(input(\"Enter a number representing month: \"))\n",
    "\n",
    "if n in (1, 3, 5, 7, 8, 10, 12):\n",
    "    print(\"31\")\n",
    "elif n in (4, 6, 9, 11):\n",
    "    print(\"30\")\n",
    "elif n == 2:\n",
    "    print(\"28\")\n",
    "else:\n",
    "    print(\"Error, enter a valid month\")\n",
    "\n"
   ]
  },
  {
   "cell_type": "markdown",
   "id": "241fa9cd",
   "metadata": {},
   "source": []
  },
  {
   "cell_type": "markdown",
   "id": "dd5cc375",
   "metadata": {},
   "source": [
    "# Dictionary"
   ]
  },
  {
   "cell_type": "code",
   "execution_count": null,
   "id": "ec419ea3",
   "metadata": {},
   "outputs": [],
   "source": [
    "Guvi_Emp={\n",
    "    'EmpID': [44,55,67,21,7,8,19,27],\n",
    "    'Name':['Rajesh','Kumar','Kamal','Saran','Karthick','Iswarya','Divya','David'],\n",
    "    'Designation':['Developer','Tester','TeamLead','Manager','Jr.Developer','Accontant','HR','Admin'],\n",
    "    'Salary': [25000,30000,45000,60000,20000,22000,15000,28000],\n",
    "\n",
    "}\n",
    "print(Guvi_Emp.)"
   ]
  },
  {
   "cell_type": "markdown",
   "id": "1dc8603a",
   "metadata": {},
   "source": [
    "# For loop"
   ]
  },
  {
   "cell_type": "code",
   "execution_count": 5,
   "id": "a37c1cdc",
   "metadata": {},
   "outputs": [
    {
     "name": "stdout",
     "output_type": "stream",
     "text": [
      "varun\n",
      "guru\n",
      "john\n",
      "vinod\n",
      "kamal\n",
      "surya\n",
      "ram\n"
     ]
    }
   ],
   "source": [
    "name = [\"varun\",\"guru\",\"john\",\"vinod\",\"kamal\",\"surya\",\"ram\"]\n",
    "for i in name:\n",
    "    print(i)\n"
   ]
  },
  {
   "cell_type": "markdown",
   "id": "ca36cd6d",
   "metadata": {},
   "source": [
    "# Loop odd even"
   ]
  },
  {
   "cell_type": "markdown",
   "id": "f30805b2",
   "metadata": {},
   "source": []
  },
  {
   "cell_type": "code",
   "execution_count": null,
   "id": "3497da6e",
   "metadata": {},
   "outputs": [
    {
     "name": "stdout",
     "output_type": "stream",
     "text": [
      "10 is even.\n",
      "20 is even.\n",
      "34 is even.\n",
      "5 is odd.\n",
      "12 is even.\n",
      "17 is odd.\n",
      "18 is even.\n",
      "21 is odd.\n",
      "3 is odd.\n",
      "22 is even.\n"
     ]
    }
   ],
   "source": [
    "nums = [10,20,34,5,12,17,18,21,3,22,63,71,77,55,93,99,32,12,83,63]\n",
    "\n",
    "for n in nums:\n",
    "\n",
    "    if n%2 == 0:\n",
    "        print(f\"{n} is even.\")\n",
    "    else:\n",
    "        print(f\"{n} is odd.\")"
   ]
  },
  {
   "cell_type": "markdown",
   "id": "5bce6b10",
   "metadata": {},
   "source": [
    "# divisible by 3,5,7"
   ]
  },
  {
   "cell_type": "code",
   "execution_count": 11,
   "id": "69c8557c",
   "metadata": {},
   "outputs": [
    {
     "name": "stdout",
     "output_type": "stream",
     "text": [
      "Numbers divisible by 3 are 12 18 21 3 63 93 99 12 63\n",
      "Numbers divisible by 5 are 10 20 5 55\n",
      "Numbers divisible by 7 are 21 63 77 63\n"
     ]
    }
   ],
   "source": [
    "nums = [10,20,34,5,12,17,18,21,3,22,63,71,77,55,93,99,32,12,83,63]\n",
    "div3 = []\n",
    "div5 = []\n",
    "div7 = []\n",
    "\n",
    "for n in nums:\n",
    "    if n%3 == 0:\n",
    "        div3.append(n)\n",
    "        if n%5 == 0:\n",
    "          div5.append(n)  \n",
    "        if n%7 == 0:\n",
    "            div7.append(n)\n",
    "    elif n%5 == 0:\n",
    "        div5.append(n)\n",
    "        if n%7 == 0:\n",
    "            div7.append(n)\n",
    "    elif n%7 == 0:\n",
    "        div7.append(n)\n",
    "\n",
    "print(\"Numbers divisible by 3 are\" ,*div3)\n",
    "print(\"Numbers divisible by 5 are\" ,*div5)\n",
    "print(\"Numbers divisible by 7 are\" ,*div7)\n"
   ]
  },
  {
   "cell_type": "markdown",
   "id": "04ded04a",
   "metadata": {},
   "source": [
    "# muntiple divisibles"
   ]
  },
  {
   "cell_type": "code",
   "execution_count": 12,
   "id": "69e55c68",
   "metadata": {},
   "outputs": [
    {
     "name": "stdout",
     "output_type": "stream",
     "text": [
      "Numbers divisible by 3 are 12 18 21 3 63 93 99 12 63\n",
      "Numbers divisible by 5 are 10 20 5 55\n",
      "Numbers divisible by 7 are 21 63 77 63\n"
     ]
    }
   ],
   "source": [
    "nums = [10,20,34,5,12,17,18,21,3,22,63,71,77,55,93,99,32,12,83,63]\n",
    "div3 = []\n",
    "div5 = []\n",
    "div7 = []\n",
    "\n",
    "for n in nums:\n",
    "    if n%3 == 0:\n",
    "        div3.append(n)\n",
    "    if n%5 == 0:\n",
    "        div5.append(n)\n",
    "    if n%7 == 0:\n",
    "        div7.append(n)\n",
    "\n",
    "print(\"Numbers divisible by 3 are\" ,*div3)\n",
    "print(\"Numbers divisible by 5 are\" ,*div5)\n",
    "print(\"Numbers divisible by 7 are\" ,*div7)\n"
   ]
  }
 ],
 "metadata": {
  "kernelspec": {
   "display_name": "Python 3",
   "language": "python",
   "name": "python3"
  },
  "language_info": {
   "codemirror_mode": {
    "name": "ipython",
    "version": 3
   },
   "file_extension": ".py",
   "mimetype": "text/x-python",
   "name": "python",
   "nbconvert_exporter": "python",
   "pygments_lexer": "ipython3",
   "version": "3.12.10"
  }
 },
 "nbformat": 4,
 "nbformat_minor": 5
}
